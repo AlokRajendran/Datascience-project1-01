{
 "cells": [
  {
   "cell_type": "code",
   "execution_count": 29,
   "metadata": {},
   "outputs": [
    {
     "name": "stdout",
     "output_type": "stream",
     "text": [
      "addition\n",
      "division\n",
      "mul\n"
     ]
    }
   ],
   "source": [
    "class A:\n",
    "    def operation1(self):\n",
    "        print(\"addition\")\n",
    "\n",
    "class B:\n",
    "    def operation3(self):\n",
    "        print(\"division\")\n",
    "class C(A,B):\n",
    "    def operation4(self):\n",
    "        print(\"mul\")\n",
    "lg=A()\n",
    "\n",
    "ln=C()\n",
    "lg.operation1()\n",
    "lp.operation3()\n",
    "ln.operation4()\n",
    "\n",
    "        \n",
    "    \n",
    "    \n",
    "    "
   ]
  },
  {
   "cell_type": "code",
   "execution_count": 31,
   "metadata": {},
   "outputs": [
    {
     "name": "stdout",
     "output_type": "stream",
     "text": [
      "1\n",
      "9\n",
      "36\n",
      "100\n",
      "225\n",
      "441\n",
      "784\n",
      "1296\n",
      "2025\n",
      "3025\n"
     ]
    }
   ],
   "source": [
    "def cube(n):\n",
    "    sum=0\n",
    "    for i in range(1,n+1):\n",
    "        sum=sum+(i*i*i)\n",
    "        print(sum)\n",
    "cube(10)        \n",
    "        "
   ]
  },
  {
   "cell_type": "code",
   "execution_count": 1,
   "metadata": {},
   "outputs": [
    {
     "name": "stdout",
     "output_type": "stream",
     "text": [
      "original string is: SkillS\n",
      "upper is: 2\n",
      "lower is: 4\n"
     ]
    }
   ],
   "source": [
    "def upper_lower(str1):\n",
    "    case={\"upper\":0,\"lower\":0}\n",
    "    for letter in str1:\n",
    "       # if str1(letter)!=u:\n",
    "       #     l=l+i\n",
    "        #    print(l)\n",
    "        #else:\n",
    "          #  u=u+i\n",
    "           # print(u)\n",
    "        if letter.isupper():\n",
    "            case[\"upper\"]=case[\"upper\"]+1\n",
    "       \n",
    "        else:\n",
    "            case[\"lower\"]=case[\"lower\"]+1\n",
    "    print(\"original string is:\",str1)    \n",
    "    print(\"upper is:\",case[\"upper\"])\n",
    "    print(\"lower is:\",case[\"lower\"])\n",
    "upper_lower(\"SkillS\")            \n"
   ]
  },
  {
   "cell_type": "code",
   "execution_count": 175,
   "metadata": {},
   "outputs": [
    {
     "name": "stdout",
     "output_type": "stream",
     "text": [
      "enter the number5\n",
      "1\n",
      "2\n",
      "6\n",
      "24\n",
      "120\n"
     ]
    }
   ],
   "source": [
    "n=int(input(\"enter the number\"))\n",
    "def fact(n):\n",
    "    f=1\n",
    "    for i in range(1,n+1):\n",
    "        f=f*i\n",
    "        print(f)\n",
    "    if n==0:\n",
    "        print(1)\n",
    "    if n<0:\n",
    "        print(\"not defined\")\n",
    "        \n",
    "   \n",
    "        \n",
    "fact(n)            \n",
    "        \n"
   ]
  },
  {
   "cell_type": "markdown",
   "metadata": {},
   "source": [
    "\n"
   ]
  },
  {
   "cell_type": "code",
   "execution_count": null,
   "metadata": {},
   "outputs": [],
   "source": []
  },
  {
   "cell_type": "code",
   "execution_count": null,
   "metadata": {},
   "outputs": [],
   "source": []
  }
 ],
 "metadata": {
  "kernelspec": {
   "display_name": "Python 3",
   "language": "python",
   "name": "python3"
  },
  "language_info": {
   "codemirror_mode": {
    "name": "ipython",
    "version": 3
   },
   "file_extension": ".py",
   "mimetype": "text/x-python",
   "name": "python",
   "nbconvert_exporter": "python",
   "pygments_lexer": "ipython3",
   "version": "3.8.8"
  }
 },
 "nbformat": 4,
 "nbformat_minor": 4
}
