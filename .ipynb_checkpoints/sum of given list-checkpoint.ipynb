{
 "cells": [
  {
   "cell_type": "code",
   "execution_count": 3,
   "metadata": {},
   "outputs": [
    {
     "name": "stdout",
     "output_type": "stream",
     "text": [
      "the sum is 26\n"
     ]
    }
   ],
   "source": [
    "li=[5,6,3,'str',4,8]\n",
    "sum=0\n",
    "for i in li:\n",
    "    if type(i)==str:\n",
    "        i=0\n",
    "       \n",
    "    else:\n",
    "        sum=sum+i\n",
    "print(\"the sum is\",sum)"
   ]
  },
  {
   "cell_type": "code",
   "execution_count": 2,
   "metadata": {},
   "outputs": [
    {
     "name": "stdout",
     "output_type": "stream",
     "text": [
      "5\n",
      "11\n",
      "14\n",
      "18\n",
      "26\n"
     ]
    }
   ],
   "source": [
    "def sum(li):\n",
    "    li=[5,6,3,'str',4,8]\n",
    "    sum=0\n",
    "    for i in li:\n",
    "        if type(i)==str:\n",
    "            i=0\n",
    "        else:\n",
    "            sum=sum+i\n",
    "            print(sum)\n",
    "sum(li)            \n",
    "    "
   ]
  },
  {
   "cell_type": "code",
   "execution_count": 18,
   "metadata": {},
   "outputs": [
    {
     "name": "stdout",
     "output_type": "stream",
     "text": [
      "5\n",
      "11\n",
      "14\n",
      "18\n",
      "26\n"
     ]
    }
   ],
   "source": [
    "li=[5,6,3,'str',4,8]\n",
    "c=0\n",
    "for i in li:\n",
    "    if type(i)!=str:\n",
    "        c=c+i\n",
    "        print(c)"
   ]
  },
  {
   "cell_type": "code",
   "execution_count": null,
   "metadata": {},
   "outputs": [],
   "source": []
  }
 ],
 "metadata": {
  "kernelspec": {
   "display_name": "Python 3",
   "language": "python",
   "name": "python3"
  },
  "language_info": {
   "codemirror_mode": {
    "name": "ipython",
    "version": 3
   },
   "file_extension": ".py",
   "mimetype": "text/x-python",
   "name": "python",
   "nbconvert_exporter": "python",
   "pygments_lexer": "ipython3",
   "version": "3.8.8"
  }
 },
 "nbformat": 4,
 "nbformat_minor": 4
}
