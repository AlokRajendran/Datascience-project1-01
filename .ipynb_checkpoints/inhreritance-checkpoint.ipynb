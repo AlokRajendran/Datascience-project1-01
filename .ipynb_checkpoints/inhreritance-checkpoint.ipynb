{
 "cells": [
  {
   "cell_type": "code",
   "execution_count": 11,
   "metadata": {},
   "outputs": [
    {
     "name": "stdout",
     "output_type": "stream",
     "text": [
      "feature1 working\n",
      "feature2 working\n",
      "feature2 working\n",
      "feature4 working\n"
     ]
    }
   ],
   "source": [
    "class A:\n",
    "    def features1(self):\n",
    "        print(\"feature1 working\")\n",
    "    def features2(self):   \n",
    "        print(\"feature2 working\")\n",
    "class B(A):\n",
    "    def features3(self):\n",
    "        print(\"feature3 working\")\n",
    "    def features4(self):\n",
    "        print(\"feature4 working\")\n",
    "lg=A()\n",
    "lk=B()\n",
    "lg.features1()\n",
    "lg.features2()\n",
    "lk.features2()\n",
    "lk.features4()\n",
    "    \n",
    "    "
   ]
  },
  {
   "cell_type": "markdown",
   "metadata": {},
   "source": []
  }
 ],
 "metadata": {
  "kernelspec": {
   "display_name": "Python 3",
   "language": "python",
   "name": "python3"
  },
  "language_info": {
   "codemirror_mode": {
    "name": "ipython",
    "version": 3
   },
   "file_extension": ".py",
   "mimetype": "text/x-python",
   "name": "python",
   "nbconvert_exporter": "python",
   "pygments_lexer": "ipython3",
   "version": "3.8.5"
  }
 },
 "nbformat": 4,
 "nbformat_minor": 4
}
