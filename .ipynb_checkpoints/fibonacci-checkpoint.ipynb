{
 "cells": [
  {
   "cell_type": "code",
   "execution_count": 1,
   "metadata": {},
   "outputs": [
    {
     "name": "stdout",
     "output_type": "stream",
     "text": [
      "sum is 1\n",
      "sum is 1\n",
      "sum is 2\n",
      "sum is 3\n",
      "sum is 5\n",
      "sum is 8\n"
     ]
    }
   ],
   "source": [
    "def fibo(n):\n",
    "    s=0\n",
    "    f=1\n",
    "    sum=0\n",
    "    for i in range(0,n):\n",
    "        s=f\n",
    "        f=sum\n",
    "        sum=f+s\n",
    "        print(\"sum is\",sum)\n",
    "fibo(6)        \n",
    "        \n",
    "        \n",
    "    "
   ]
  },
  {
   "cell_type": "code",
   "execution_count": null,
   "metadata": {},
   "outputs": [],
   "source": []
  }
 ],
 "metadata": {
  "kernelspec": {
   "display_name": "Python 3",
   "language": "python",
   "name": "python3"
  },
  "language_info": {
   "codemirror_mode": {
    "name": "ipython",
    "version": 3
   },
   "file_extension": ".py",
   "mimetype": "text/x-python",
   "name": "python",
   "nbconvert_exporter": "python",
   "pygments_lexer": "ipython3",
   "version": "3.8.8"
  }
 },
 "nbformat": 4,
 "nbformat_minor": 4
}
