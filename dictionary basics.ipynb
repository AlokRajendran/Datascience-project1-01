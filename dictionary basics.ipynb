{
 "cells": [
  {
   "cell_type": "markdown",
   "id": "9001a2d5",
   "metadata": {},
   "source": [
    "## Dictionary\n",
    "Dictionaries are mutable data types in nature meaning they can be updated after they are created. Syntactically they are written in a key, value pair format inside curly braces.\n",
    "\n",
    "\n",
    "Keys are always unique and there cannot be any duplicates. There is no index in the dictionary meaning they are not ordered. Key is the default iterator and is used to retrieve the value."
   ]
  },
  {
   "cell_type": "markdown",
   "id": "80b6d9f5",
   "metadata": {},
   "source": [
    "{Key1:Value1,Key2:Value2,Key3:Value3,Key4:Value4}"
   ]
  },
  {
   "cell_type": "markdown",
   "id": "ccc6c711",
   "metadata": {},
   "source": [
    "#### 1) Empty Dictionary"
   ]
  },
  {
   "cell_type": "code",
   "execution_count": 2,
   "id": "69f96bdf",
   "metadata": {},
   "outputs": [
    {
     "name": "stdout",
     "output_type": "stream",
     "text": [
      "{}\n"
     ]
    }
   ],
   "source": [
    "dict_emp={}\n",
    "print(dict_emp)"
   ]
  },
  {
   "cell_type": "markdown",
   "id": "a14b4f69",
   "metadata": {},
   "source": [
    "#### When keys are integer values"
   ]
  },
  {
   "cell_type": "code",
   "execution_count": 3,
   "id": "ab8ba394",
   "metadata": {},
   "outputs": [
    {
     "name": "stdout",
     "output_type": "stream",
     "text": [
      "{1: 'Ahmedabad', 2: 'Chennai', 3: 'Coimbatore', 4: 'Surat', 5: 'Agra'}\n"
     ]
    }
   ],
   "source": [
    "dict_city={1: 'Ahmedabad', 2: 'Chennai', 3: 'Coimbatore',4:'Surat',5:'Agra'}\n",
    "print(dict_city)"
   ]
  },
  {
   "cell_type": "markdown",
   "id": "3a6a09da",
   "metadata": {},
   "source": [
    "#### When keys are string values"
   ]
  },
  {
   "cell_type": "code",
   "execution_count": 4,
   "id": "a7feaba5",
   "metadata": {},
   "outputs": [
    {
     "name": "stdout",
     "output_type": "stream",
     "text": [
      "{'Country1': 'USA', 'Country2': 'India', 'Country3': 'Japan', 'Country4': 'UK', 'Country5': 'Australia'}\n"
     ]
    }
   ],
   "source": [
    "dict_travel={'Country1':'USA', 'Country2': 'India', 'Country3':'Japan', 'Country4':'UK', 'Country5': 'Australia'}\n",
    "print(dict_travel)"
   ]
  },
  {
   "cell_type": "markdown",
   "id": "d54a7b7e",
   "metadata": {},
   "source": [
    "#### When mixed keys are present"
   ]
  },
  {
   "cell_type": "code",
   "execution_count": 5,
   "id": "3fd8a43e",
   "metadata": {},
   "outputs": [
    {
     "name": "stdout",
     "output_type": "stream",
     "text": [
      "{'Country': 'India', 1456: 'Free', 'list': ['city', 'road', 12]}\n"
     ]
    }
   ],
   "source": [
    "mixed_dict= {'Country':'India', 1456:'Free','list':['city', 'road',12]}\n",
    "print(mixed_dict)"
   ]
  },
  {
   "cell_type": "code",
   "execution_count": 10,
   "id": "c7019b47",
   "metadata": {},
   "outputs": [
    {
     "name": "stdout",
     "output_type": "stream",
     "text": [
      "Jack\n",
      "26\n",
      "None\n"
     ]
    },
    {
     "ename": "KeyError",
     "evalue": "'address'",
     "output_type": "error",
     "traceback": [
      "\u001b[1;31m---------------------------------------------------------------------------\u001b[0m",
      "\u001b[1;31mKeyError\u001b[0m                                  Traceback (most recent call last)",
      "\u001b[1;32m<ipython-input-10-5f9bb6c1a150>\u001b[0m in \u001b[0;36m<module>\u001b[1;34m\u001b[0m\n\u001b[0;32m     12\u001b[0m \u001b[1;33m\u001b[0m\u001b[0m\n\u001b[0;32m     13\u001b[0m \u001b[1;31m# KeyError\u001b[0m\u001b[1;33m\u001b[0m\u001b[1;33m\u001b[0m\u001b[1;33m\u001b[0m\u001b[0m\n\u001b[1;32m---> 14\u001b[1;33m \u001b[0mprint\u001b[0m\u001b[1;33m(\u001b[0m\u001b[0mmy_dict\u001b[0m\u001b[1;33m[\u001b[0m\u001b[1;34m'address'\u001b[0m\u001b[1;33m]\u001b[0m\u001b[1;33m)\u001b[0m\u001b[1;33m\u001b[0m\u001b[1;33m\u001b[0m\u001b[0m\n\u001b[0m",
      "\u001b[1;31mKeyError\u001b[0m: 'address'"
     ]
    }
   ],
   "source": [
    "my_dict = {'name': 'Jack', 'age': 26}\n",
    "\n",
    "# Output: Jack\n",
    "print(my_dict['name'])\n",
    "\n",
    "# Output: 26\n",
    "print(my_dict.get('age'))\n",
    "\n",
    "# Trying to access keys which doesn't exist throws error\n",
    "# Output None\n",
    "print(my_dict.get('address'))\n",
    "\n",
    "# KeyError\n",
    "print(my_dict['address'])\n"
   ]
  },
  {
   "cell_type": "markdown",
   "id": "44ff7511",
   "metadata": {},
   "source": [
    "Changing and Adding Dictionary elements:\n",
    "Dictionaries are mutable. We can add new items or change the value of existing items using an assignment operator.\n",
    "\n",
    "If the key is already present, then the existing value gets updated. In case the key is not present, a new (key: value) pair is added to the dictionary."
   ]
  },
  {
   "cell_type": "code",
   "execution_count": 11,
   "id": "ac526ab9",
   "metadata": {},
   "outputs": [
    {
     "name": "stdout",
     "output_type": "stream",
     "text": [
      "{'name': 'Jack', 'age': 27}\n",
      "{'name': 'Jack', 'age': 27, 'address': 'Downtown'}\n"
     ]
    }
   ],
   "source": [
    "# Changing and adding Dictionary Elements\n",
    "my_dict = {'name': 'Jack', 'age': 26}\n",
    "\n",
    "# update value\n",
    "my_dict['age'] = 27\n",
    "\n",
    "#Output: {'age': 27, 'name': 'Jack'}\n",
    "print(my_dict)\n",
    "\n",
    "# add item\n",
    "my_dict['address'] = 'Downtown'\n",
    "\n",
    "# Output: {'address': 'Downtown', 'age': 27, 'name': 'Jack'}\n",
    "print(my_dict)"
   ]
  },
  {
   "cell_type": "markdown",
   "id": "6fee8228",
   "metadata": {},
   "source": [
    "Removing elements from Dictionary:\n",
    "We can remove a particular item in a dictionary by using the pop() method. This method removes an item with the provided key and returns the value.\n",
    "\n",
    "The popitem() method can be used to remove and return an arbitrary (key, value) item pair from the dictionary. All the items can be removed at once, using the clear() method.\n",
    "\n",
    "We can also use the del keyword to remove individual items or the entire dictionary itself."
   ]
  },
  {
   "cell_type": "code",
   "execution_count": 17,
   "id": "0f297605",
   "metadata": {},
   "outputs": [
    {
     "name": "stdout",
     "output_type": "stream",
     "text": [
      "16\n",
      "{1: 1, 2: 4, 3: 9, 5: 25}\n",
      "(5, 25)\n",
      "{1: 1, 2: 4, 3: 9}\n",
      "{}\n"
     ]
    },
    {
     "ename": "NameError",
     "evalue": "name 'squares' is not defined",
     "output_type": "error",
     "traceback": [
      "\u001b[1;31m---------------------------------------------------------------------------\u001b[0m",
      "\u001b[1;31mNameError\u001b[0m                                 Traceback (most recent call last)",
      "\u001b[1;32m<ipython-input-17-d4fd3c290305>\u001b[0m in \u001b[0;36m<module>\u001b[1;34m\u001b[0m\n\u001b[0;32m     30\u001b[0m \u001b[1;33m\u001b[0m\u001b[0m\n\u001b[0;32m     31\u001b[0m \u001b[1;31m# Throws Error\u001b[0m\u001b[1;33m\u001b[0m\u001b[1;33m\u001b[0m\u001b[1;33m\u001b[0m\u001b[0m\n\u001b[1;32m---> 32\u001b[1;33m \u001b[0mprint\u001b[0m\u001b[1;33m(\u001b[0m\u001b[0msquares\u001b[0m\u001b[1;33m)\u001b[0m\u001b[1;33m\u001b[0m\u001b[1;33m\u001b[0m\u001b[0m\n\u001b[0m\u001b[0;32m     33\u001b[0m \u001b[1;33m\u001b[0m\u001b[0m\n",
      "\u001b[1;31mNameError\u001b[0m: name 'squares' is not defined"
     ]
    }
   ],
   "source": [
    "# Removing elements from a dictionary\n",
    "\n",
    "# Removing elements from a dictionary\n",
    "\n",
    "# create a dictionary\n",
    "squares = {1: 1, 2: 4, 3: 9, 4: 16, 5: 25}\n",
    "\n",
    "# remove a particular item, returns its value\n",
    "# Output: 16\n",
    "print(squares.pop(4))\n",
    "\n",
    "# Output: {1: 1, 2: 4, 3: 9, 5: 25}\n",
    "print(squares)\n",
    "\n",
    "# remove an arbitrary item, return (key,value)\n",
    "# Output: (5, 25)\n",
    "print(squares.popitem())\n",
    "\n",
    "# Output: {1: 1, 2: 4, 3: 9}\n",
    "print(squares)\n",
    "\n",
    "# remove all items\n",
    "squares.clear()\n",
    "\n",
    "# Output: {}\n",
    "print(squares)\n",
    "\n",
    "# delete the dictionary itself\n",
    "del squares\n",
    "\n",
    "# Throws Error\n",
    "print(squares)\n",
    "\n"
   ]
  },
  {
   "cell_type": "markdown",
   "id": "51f5d7dd",
   "metadata": {},
   "source": [
    "Python dictionary popitem() method removes the last inserted key-value pair from the dictionary and returns it as a tuple.\n",
    "\n",
    "Syntax : dict.popitem() \n",
    "\n",
    "Parameters : None \n",
    "\n",
    "Returns : A tuple containing the arbitrary key-value pair from dictionary. That pair is removed from dictionary."
   ]
  },
  {
   "cell_type": "code",
   "execution_count": 18,
   "id": "a1c34b37",
   "metadata": {},
   "outputs": [
    {
     "name": "stdout",
     "output_type": "stream",
     "text": [
      "{'Math': 0, 'English': 0, 'Science': 0}\n",
      "('Math', 0)\n",
      "('English', 0)\n",
      "('Science', 0)\n",
      "['English', 'Math', 'Science']\n"
     ]
    }
   ],
   "source": [
    "# Dictionary Methods\n",
    "marks = {}.fromkeys(['Math', 'English', 'Science'], 0)\n",
    "\n",
    "# Output: {'English': 0, 'Math': 0, 'Science': 0}\n",
    "print(marks)\n",
    "\n",
    "for item in marks.items():\n",
    "    print(item)\n",
    "\n",
    "# Output: ['English', 'Math', 'Science']\n",
    "print(list(sorted(marks.keys())))"
   ]
  },
  {
   "cell_type": "code",
   "execution_count": null,
   "id": "71646056",
   "metadata": {},
   "outputs": [],
   "source": []
  }
 ],
 "metadata": {
  "kernelspec": {
   "display_name": "Python 3",
   "language": "python",
   "name": "python3"
  },
  "language_info": {
   "codemirror_mode": {
    "name": "ipython",
    "version": 3
   },
   "file_extension": ".py",
   "mimetype": "text/x-python",
   "name": "python",
   "nbconvert_exporter": "python",
   "pygments_lexer": "ipython3",
   "version": "3.8.8"
  }
 },
 "nbformat": 4,
 "nbformat_minor": 5
}
