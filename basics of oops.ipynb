{
 "cells": [
  {
   "cell_type": "code",
   "execution_count": 1,
   "metadata": {},
   "outputs": [
    {
     "name": "stdout",
     "output_type": "stream",
     "text": [
      "c\n",
      "n\n"
     ]
    }
   ],
   "source": [
    "class date:\n",
    "    def dat(self):\n",
    "        print(\"c\")\n",
    "        print(\"n\")\n",
    "k=date()\n",
    "k.dat()"
   ]
  },
  {
   "cell_type": "code",
   "execution_count": 7,
   "metadata": {},
   "outputs": [
    {
     "name": "stdout",
     "output_type": "stream",
     "text": [
      "3245\n",
      "3245\n",
      "mahindra\n",
      "xuv\n",
      "cc\n"
     ]
    }
   ],
   "source": [
    "class cars:\n",
    "    def __init__(self):\n",
    "        print(\"3245\")\n",
    "    def model(self):\n",
    "        print(\"mahindra\")\n",
    "        print(\"xuv\")\n",
    "    def cc(self):\n",
    "        print(\"cc\")\n",
    "n=cars()\n",
    "thar=cars()\n",
    "n.model()\n",
    "thar.cc()"
   ]
  },
  {
   "cell_type": "code",
   "execution_count": null,
   "metadata": {},
   "outputs": [],
   "source": []
  },
  {
   "cell_type": "code",
   "execution_count": null,
   "metadata": {},
   "outputs": [],
   "source": []
  }
 ],
 "metadata": {
  "kernelspec": {
   "display_name": "Python 3",
   "language": "python",
   "name": "python3"
  },
  "language_info": {
   "codemirror_mode": {
    "name": "ipython",
    "version": 3
   },
   "file_extension": ".py",
   "mimetype": "text/x-python",
   "name": "python",
   "nbconvert_exporter": "python",
   "pygments_lexer": "ipython3",
   "version": "3.8.8"
  }
 },
 "nbformat": 4,
 "nbformat_minor": 4
}
