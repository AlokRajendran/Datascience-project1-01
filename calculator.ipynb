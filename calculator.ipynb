{
 "cells": [
  {
   "cell_type": "code",
   "execution_count": 4,
   "metadata": {},
   "outputs": [
    {
     "name": "stdout",
     "output_type": "stream",
     "text": [
      "1.addition\n",
      "2.substarction\n",
      "3.multiplication\n",
      "4.division\n",
      "enter first num2\n",
      "enter second num3\n",
      "enter your choices.1/2/3/4\n",
      "1\n",
      "5\n"
     ]
    }
   ],
   "source": [
    "def add(a,b):\n",
    "    print(a+b) \n",
    "    \n",
    "def sub(a,b):\n",
    "    print(a-b)\n",
    "    \n",
    "def mul(a,b):\n",
    "    print(a*b)\n",
    "    \n",
    "def div(a,b):\n",
    "    print(a/b)\n",
    "    \n",
    "print(\"1.addition\")\n",
    "print(\"2.substarction\")\n",
    "print(\"3.multiplication\")\n",
    "print(\"4.division\")\n",
    "a=int(input(\"enter first num\"))\n",
    "b=int(input(\"enter second num\"))\n",
    "choice=int(input(\"enter your choices.1/2/3/4\\n\"))\n",
    "if(choice==1):\n",
    "    add(a,b)\n",
    "elif(choice==2):\n",
    "    sub(a,b)\n",
    "elif(choice==3):\n",
    "    mul(a,b)\n",
    "elif(choice==4):\n",
    "    div(a/b)\n",
    "else:\n",
    "    print(\"wrong\")\n",
    "\n",
    "    \n",
    "   \n",
    "\n",
    "    \n",
    "    \n",
    "\n",
    "    "
   ]
  },
  {
   "cell_type": "code",
   "execution_count": null,
   "metadata": {},
   "outputs": [],
   "source": []
  },
  {
   "cell_type": "code",
   "execution_count": null,
   "metadata": {},
   "outputs": [],
   "source": [
    "|"
   ]
  }
 ],
 "metadata": {
  "kernelspec": {
   "display_name": "Python 3",
   "language": "python",
   "name": "python3"
  },
  "language_info": {
   "codemirror_mode": {
    "name": "ipython",
    "version": 3
   },
   "file_extension": ".py",
   "mimetype": "text/x-python",
   "name": "python",
   "nbconvert_exporter": "python",
   "pygments_lexer": "ipython3",
   "version": "3.8.8"
  }
 },
 "nbformat": 4,
 "nbformat_minor": 4
}
