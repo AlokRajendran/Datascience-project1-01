{
 "cells": [
  {
   "cell_type": "markdown",
   "metadata": {},
   "source": [
    "# Variable Assignment"
   ]
  },
  {
   "cell_type": "code",
   "execution_count": 1,
   "metadata": {},
   "outputs": [],
   "source": [
    "a=5"
   ]
  },
  {
   "cell_type": "code",
   "execution_count": 2,
   "metadata": {},
   "outputs": [
    {
     "name": "stdout",
     "output_type": "stream",
     "text": [
      "5\n"
     ]
    }
   ],
   "source": [
    "print(a)"
   ]
  },
  {
   "cell_type": "code",
   "execution_count": 3,
   "metadata": {},
   "outputs": [],
   "source": [
    "A=3"
   ]
  },
  {
   "cell_type": "code",
   "execution_count": 4,
   "metadata": {},
   "outputs": [
    {
     "name": "stdout",
     "output_type": "stream",
     "text": [
      "5\n",
      "3\n"
     ]
    }
   ],
   "source": [
    "print(a)\n",
    "print(A)"
   ]
  },
  {
   "cell_type": "markdown",
   "metadata": {},
   "source": [
    "# How variables work in python"
   ]
  },
  {
   "cell_type": "code",
   "execution_count": 5,
   "metadata": {},
   "outputs": [],
   "source": [
    "a=7\n",
    "b=a\n",
    "a=3"
   ]
  },
  {
   "cell_type": "code",
   "execution_count": 6,
   "metadata": {},
   "outputs": [
    {
     "name": "stdout",
     "output_type": "stream",
     "text": [
      "3\n"
     ]
    }
   ],
   "source": [
    "print(a)"
   ]
  },
  {
   "cell_type": "code",
   "execution_count": 7,
   "metadata": {},
   "outputs": [
    {
     "name": "stdout",
     "output_type": "stream",
     "text": [
      "7\n"
     ]
    }
   ],
   "source": [
    "print(b)"
   ]
  },
  {
   "cell_type": "markdown",
   "metadata": {},
   "source": [
    "#Variable naming rules"
   ]
  },
  {
   "cell_type": "code",
   "execution_count": 2,
   "metadata": {},
   "outputs": [
    {
     "data": {
      "text/plain": [
       "5"
      ]
     },
     "execution_count": 2,
     "metadata": {},
     "output_type": "execute_result"
    }
   ],
   "source": [
    "a=5\n",
    "a"
   ]
  },
  {
   "cell_type": "code",
   "execution_count": 3,
   "metadata": {},
   "outputs": [
    {
     "data": {
      "text/plain": [
       "3"
      ]
     },
     "execution_count": 3,
     "metadata": {},
     "output_type": "execute_result"
    }
   ],
   "source": [
    "_a=3\n",
    "_a"
   ]
  },
  {
   "cell_type": "code",
   "execution_count": 4,
   "metadata": {},
   "outputs": [
    {
     "ename": "SyntaxError",
     "evalue": "invalid syntax (<ipython-input-4-05f74afdc1b0>, line 1)",
     "output_type": "error",
     "traceback": [
      "\u001b[1;36m  File \u001b[1;32m\"<ipython-input-4-05f74afdc1b0>\"\u001b[1;36m, line \u001b[1;32m1\u001b[0m\n\u001b[1;33m    @a=4\u001b[0m\n\u001b[1;37m      ^\u001b[0m\n\u001b[1;31mSyntaxError\u001b[0m\u001b[1;31m:\u001b[0m invalid syntax\n"
     ]
    }
   ],
   "source": [
    "@a=4\n",
    "@a"
   ]
  },
  {
   "cell_type": "code",
   "execution_count": 5,
   "metadata": {},
   "outputs": [
    {
     "ename": "SyntaxError",
     "evalue": "invalid syntax (<ipython-input-5-c6d28c3b533b>, line 1)",
     "output_type": "error",
     "traceback": [
      "\u001b[1;36m  File \u001b[1;32m\"<ipython-input-5-c6d28c3b533b>\"\u001b[1;36m, line \u001b[1;32m1\u001b[0m\n\u001b[1;33m    1a=6\u001b[0m\n\u001b[1;37m     ^\u001b[0m\n\u001b[1;31mSyntaxError\u001b[0m\u001b[1;31m:\u001b[0m invalid syntax\n"
     ]
    }
   ],
   "source": [
    "1a=6\n",
    "1a"
   ]
  },
  {
   "cell_type": "markdown",
   "metadata": {},
   "source": [
    "# Data types in python\n"
   ]
  },
  {
   "cell_type": "code",
   "execution_count": 12,
   "metadata": {},
   "outputs": [],
   "source": [
    "a=5"
   ]
  },
  {
   "cell_type": "code",
   "execution_count": 13,
   "metadata": {},
   "outputs": [
    {
     "data": {
      "text/plain": [
       "int"
      ]
     },
     "execution_count": 13,
     "metadata": {},
     "output_type": "execute_result"
    }
   ],
   "source": [
    "type(a)"
   ]
  },
  {
   "cell_type": "code",
   "execution_count": 14,
   "metadata": {},
   "outputs": [],
   "source": [
    "v=\"anu\""
   ]
  },
  {
   "cell_type": "code",
   "execution_count": 15,
   "metadata": {},
   "outputs": [
    {
     "data": {
      "text/plain": [
       "str"
      ]
     },
     "execution_count": 15,
     "metadata": {},
     "output_type": "execute_result"
    }
   ],
   "source": [
    "type(v)"
   ]
  },
  {
   "cell_type": "markdown",
   "metadata": {},
   "source": [
    "# Conditional Statements"
   ]
  },
  {
   "cell_type": "markdown",
   "metadata": {},
   "source": [
    "# if-else statements-single conditions"
   ]
  },
  {
   "cell_type": "markdown",
   "metadata": {},
   "source": [
    "syntax:\n",
    "\n",
    "if(condition):\n",
    "     statement1\n",
    "else:\n",
    "     statement2\n",
    "     \n",
    "     \n",
    "eg:\n",
    " \n",
    " if(time==late):\n",
    "     food=order\n",
    " else:\n",
    "     food=cook"
   ]
  },
  {
   "cell_type": "markdown",
   "metadata": {},
   "source": [
    "# if-elif-else statements-multiple conditions"
   ]
  },
  {
   "cell_type": "markdown",
   "metadata": {},
   "source": [
    "syntax:\n",
    "\n",
    "if(condition1):\n",
    "     statement1\n",
    "elif(condition2):\n",
    "     statement2\n",
    "else:\n",
    "     statement3"
   ]
  },
  {
   "cell_type": "markdown",
   "metadata": {},
   "source": [
    "eg:\n",
    "\n",
    "if(x>0):\n",
    "    print(\"positive\")\n",
    "elif(x==0):\n",
    "    print(\"zero\")\n",
    "else:\n",
    "    print(\"negative\")"
   ]
  },
  {
   "cell_type": "markdown",
   "metadata": {},
   "source": [
    "# implementing condtional statements in python"
   ]
  },
  {
   "cell_type": "markdown",
   "metadata": {},
   "source": [
    "Take a variable x and print \"even\" if the number is divisible by 2, otherwise print \"odd\"."
   ]
  },
  {
   "cell_type": "code",
   "execution_count": 26,
   "metadata": {},
   "outputs": [
    {
     "name": "stdout",
     "output_type": "stream",
     "text": [
      "even\n"
     ]
    }
   ],
   "source": [
    "x=6;\n",
    "\n",
    "if(x%2==0):\n",
    "    print(\"even\")\n",
    "else:\n",
    "    print(\"odd\")"
   ]
  },
  {
   "cell_type": "markdown",
   "metadata": {},
   "source": [
    "pblm2:Take a variable y and print\"GRADE A\" if y is greater than 90, \"GRADE B\" if y is greater than 60 but less than or equal to 90 and \"GRADE F\" otherwise."
   ]
  },
  {
   "cell_type": "code",
   "execution_count": 30,
   "metadata": {},
   "outputs": [
    {
     "name": "stdout",
     "output_type": "stream",
     "text": [
      "GRADE B\n"
     ]
    }
   ],
   "source": [
    "y=90;\n",
    "\n",
    "if(y>90):\n",
    "    print(\"GRADE A\")\n",
    "elif(y>60 and y<=90):\n",
    "    print(\"GRADE B\")\n",
    "else:\n",
    "    print(\"GRADE F\")"
   ]
  },
  {
   "cell_type": "markdown",
   "metadata": {},
   "source": [
    "# looping constructs in python"
   ]
  },
  {
   "cell_type": "markdown",
   "metadata": {},
   "source": [
    "for loop"
   ]
  },
  {
   "cell_type": "code",
   "execution_count": 1,
   "metadata": {},
   "outputs": [
    {
     "name": "stdout",
     "output_type": "stream",
     "text": [
      "python is awesome\n",
      "python is awesome\n",
      "python is awesome\n",
      "python is awesome\n",
      "python is awesome\n",
      "python is awesome\n",
      "python is awesome\n",
      "python is awesome\n",
      "python is awesome\n",
      "python is awesome\n",
      "python is awesome\n",
      "python is awesome\n",
      "python is awesome\n",
      "python is awesome\n",
      "python is awesome\n",
      "python is awesome\n",
      "python is awesome\n",
      "python is awesome\n",
      "python is awesome\n",
      "python is awesome\n",
      "python is awesome\n",
      "python is awesome\n",
      "python is awesome\n",
      "python is awesome\n",
      "python is awesome\n",
      "python is awesome\n",
      "python is awesome\n",
      "python is awesome\n",
      "python is awesome\n",
      "python is awesome\n",
      "python is awesome\n",
      "python is awesome\n",
      "python is awesome\n",
      "python is awesome\n",
      "python is awesome\n",
      "python is awesome\n",
      "python is awesome\n",
      "python is awesome\n",
      "python is awesome\n",
      "python is awesome\n",
      "python is awesome\n",
      "python is awesome\n",
      "python is awesome\n",
      "python is awesome\n",
      "python is awesome\n",
      "python is awesome\n",
      "python is awesome\n",
      "python is awesome\n",
      "python is awesome\n",
      "python is awesome\n",
      "python is awesome\n",
      "python is awesome\n",
      "python is awesome\n",
      "python is awesome\n",
      "python is awesome\n",
      "python is awesome\n",
      "python is awesome\n",
      "python is awesome\n",
      "python is awesome\n",
      "python is awesome\n",
      "python is awesome\n",
      "python is awesome\n",
      "python is awesome\n",
      "python is awesome\n",
      "python is awesome\n",
      "python is awesome\n",
      "python is awesome\n",
      "python is awesome\n",
      "python is awesome\n",
      "python is awesome\n",
      "python is awesome\n",
      "python is awesome\n",
      "python is awesome\n",
      "python is awesome\n",
      "python is awesome\n",
      "python is awesome\n",
      "python is awesome\n",
      "python is awesome\n",
      "python is awesome\n",
      "python is awesome\n",
      "python is awesome\n",
      "python is awesome\n",
      "python is awesome\n",
      "python is awesome\n",
      "python is awesome\n",
      "python is awesome\n",
      "python is awesome\n",
      "python is awesome\n",
      "python is awesome\n",
      "python is awesome\n",
      "python is awesome\n",
      "python is awesome\n",
      "python is awesome\n",
      "python is awesome\n",
      "python is awesome\n",
      "python is awesome\n",
      "python is awesome\n",
      "python is awesome\n",
      "python is awesome\n",
      "python is awesome\n",
      "python is awesome\n",
      "python is awesome\n",
      "python is awesome\n",
      "python is awesome\n",
      "python is awesome\n",
      "python is awesome\n",
      "python is awesome\n",
      "python is awesome\n",
      "python is awesome\n",
      "python is awesome\n",
      "python is awesome\n",
      "python is awesome\n",
      "python is awesome\n",
      "python is awesome\n",
      "python is awesome\n",
      "python is awesome\n",
      "python is awesome\n",
      "python is awesome\n",
      "python is awesome\n",
      "python is awesome\n",
      "python is awesome\n",
      "python is awesome\n",
      "python is awesome\n",
      "python is awesome\n",
      "python is awesome\n",
      "python is awesome\n",
      "python is awesome\n",
      "python is awesome\n",
      "python is awesome\n",
      "python is awesome\n",
      "python is awesome\n",
      "python is awesome\n",
      "python is awesome\n",
      "python is awesome\n",
      "python is awesome\n",
      "python is awesome\n",
      "python is awesome\n",
      "python is awesome\n",
      "python is awesome\n",
      "python is awesome\n",
      "python is awesome\n",
      "python is awesome\n",
      "python is awesome\n",
      "python is awesome\n",
      "python is awesome\n",
      "python is awesome\n",
      "python is awesome\n",
      "python is awesome\n",
      "python is awesome\n",
      "python is awesome\n",
      "python is awesome\n",
      "python is awesome\n",
      "python is awesome\n",
      "python is awesome\n",
      "python is awesome\n",
      "python is awesome\n",
      "python is awesome\n",
      "python is awesome\n",
      "python is awesome\n",
      "python is awesome\n",
      "python is awesome\n",
      "python is awesome\n",
      "python is awesome\n",
      "python is awesome\n",
      "python is awesome\n",
      "python is awesome\n",
      "python is awesome\n",
      "python is awesome\n",
      "python is awesome\n",
      "python is awesome\n",
      "python is awesome\n",
      "python is awesome\n",
      "python is awesome\n",
      "python is awesome\n",
      "python is awesome\n",
      "python is awesome\n",
      "python is awesome\n",
      "python is awesome\n",
      "python is awesome\n",
      "python is awesome\n",
      "python is awesome\n",
      "python is awesome\n",
      "python is awesome\n",
      "python is awesome\n",
      "python is awesome\n",
      "python is awesome\n",
      "python is awesome\n",
      "python is awesome\n",
      "python is awesome\n",
      "python is awesome\n",
      "python is awesome\n",
      "python is awesome\n",
      "python is awesome\n",
      "python is awesome\n",
      "python is awesome\n",
      "python is awesome\n",
      "python is awesome\n",
      "python is awesome\n",
      "python is awesome\n",
      "python is awesome\n",
      "python is awesome\n",
      "python is awesome\n",
      "python is awesome\n",
      "python is awesome\n",
      "python is awesome\n",
      "python is awesome\n",
      "python is awesome\n",
      "python is awesome\n",
      "python is awesome\n",
      "python is awesome\n",
      "python is awesome\n",
      "python is awesome\n",
      "python is awesome\n",
      "python is awesome\n",
      "python is awesome\n",
      "python is awesome\n",
      "python is awesome\n",
      "python is awesome\n",
      "python is awesome\n",
      "python is awesome\n",
      "python is awesome\n",
      "python is awesome\n",
      "python is awesome\n",
      "python is awesome\n",
      "python is awesome\n",
      "python is awesome\n",
      "python is awesome\n",
      "python is awesome\n",
      "python is awesome\n",
      "python is awesome\n",
      "python is awesome\n",
      "python is awesome\n",
      "python is awesome\n",
      "python is awesome\n",
      "python is awesome\n",
      "python is awesome\n",
      "python is awesome\n",
      "python is awesome\n",
      "python is awesome\n",
      "python is awesome\n",
      "python is awesome\n",
      "python is awesome\n",
      "python is awesome\n",
      "python is awesome\n",
      "python is awesome\n",
      "python is awesome\n",
      "python is awesome\n",
      "python is awesome\n",
      "python is awesome\n",
      "python is awesome\n",
      "python is awesome\n",
      "python is awesome\n",
      "python is awesome\n",
      "python is awesome\n",
      "python is awesome\n",
      "python is awesome\n",
      "python is awesome\n",
      "python is awesome\n",
      "python is awesome\n",
      "python is awesome\n",
      "python is awesome\n",
      "python is awesome\n",
      "python is awesome\n",
      "python is awesome\n",
      "python is awesome\n",
      "python is awesome\n",
      "python is awesome\n",
      "python is awesome\n",
      "python is awesome\n",
      "python is awesome\n",
      "python is awesome\n",
      "python is awesome\n",
      "python is awesome\n",
      "python is awesome\n",
      "python is awesome\n",
      "python is awesome\n",
      "python is awesome\n",
      "python is awesome\n",
      "python is awesome\n",
      "python is awesome\n",
      "python is awesome\n",
      "python is awesome\n",
      "python is awesome\n",
      "python is awesome\n",
      "python is awesome\n",
      "python is awesome\n",
      "python is awesome\n",
      "python is awesome\n",
      "python is awesome\n",
      "python is awesome\n",
      "python is awesome\n",
      "python is awesome\n",
      "python is awesome\n",
      "python is awesome\n",
      "python is awesome\n",
      "python is awesome\n",
      "python is awesome\n",
      "python is awesome\n",
      "python is awesome\n",
      "python is awesome\n",
      "python is awesome\n",
      "python is awesome\n",
      "python is awesome\n",
      "python is awesome\n",
      "python is awesome\n",
      "python is awesome\n",
      "python is awesome\n",
      "python is awesome\n",
      "python is awesome\n",
      "python is awesome\n",
      "python is awesome\n",
      "python is awesome\n",
      "python is awesome\n",
      "python is awesome\n",
      "python is awesome\n",
      "python is awesome\n",
      "python is awesome\n",
      "python is awesome\n",
      "python is awesome\n",
      "python is awesome\n",
      "python is awesome\n",
      "python is awesome\n",
      "python is awesome\n",
      "python is awesome\n",
      "python is awesome\n",
      "python is awesome\n",
      "python is awesome\n",
      "python is awesome\n",
      "python is awesome\n",
      "python is awesome\n",
      "python is awesome\n",
      "python is awesome\n",
      "python is awesome\n",
      "python is awesome\n",
      "python is awesome\n",
      "python is awesome\n",
      "python is awesome\n",
      "python is awesome\n",
      "python is awesome\n",
      "python is awesome\n",
      "python is awesome\n",
      "python is awesome\n",
      "python is awesome\n",
      "python is awesome\n",
      "python is awesome\n",
      "python is awesome\n",
      "python is awesome\n",
      "python is awesome\n",
      "python is awesome\n",
      "python is awesome\n",
      "python is awesome\n",
      "python is awesome\n",
      "python is awesome\n",
      "python is awesome\n",
      "python is awesome\n",
      "python is awesome\n",
      "python is awesome\n",
      "python is awesome\n",
      "python is awesome\n",
      "python is awesome\n",
      "python is awesome\n",
      "python is awesome\n",
      "python is awesome\n",
      "python is awesome\n",
      "python is awesome\n",
      "python is awesome\n",
      "python is awesome\n",
      "python is awesome\n",
      "python is awesome\n",
      "python is awesome\n",
      "python is awesome\n",
      "python is awesome\n",
      "python is awesome\n",
      "python is awesome\n",
      "python is awesome\n",
      "python is awesome\n",
      "python is awesome\n",
      "python is awesome\n",
      "python is awesome\n",
      "python is awesome\n",
      "python is awesome\n",
      "python is awesome\n",
      "python is awesome\n",
      "python is awesome\n",
      "python is awesome\n",
      "python is awesome\n",
      "python is awesome\n",
      "python is awesome\n",
      "python is awesome\n",
      "python is awesome\n",
      "python is awesome\n",
      "python is awesome\n",
      "python is awesome\n",
      "python is awesome\n",
      "python is awesome\n",
      "python is awesome\n",
      "python is awesome\n",
      "python is awesome\n",
      "python is awesome\n",
      "python is awesome\n",
      "python is awesome\n",
      "python is awesome\n",
      "python is awesome\n",
      "python is awesome\n",
      "python is awesome\n",
      "python is awesome\n",
      "python is awesome\n",
      "python is awesome\n",
      "python is awesome\n",
      "python is awesome\n",
      "python is awesome\n",
      "python is awesome\n",
      "python is awesome\n",
      "python is awesome\n",
      "python is awesome\n",
      "python is awesome\n",
      "python is awesome\n",
      "python is awesome\n",
      "python is awesome\n",
      "python is awesome\n",
      "python is awesome\n",
      "python is awesome\n",
      "python is awesome\n",
      "python is awesome\n",
      "python is awesome\n",
      "python is awesome\n",
      "python is awesome\n",
      "python is awesome\n",
      "python is awesome\n",
      "python is awesome\n",
      "python is awesome\n",
      "python is awesome\n",
      "python is awesome\n",
      "python is awesome\n",
      "python is awesome\n",
      "python is awesome\n",
      "python is awesome\n",
      "python is awesome\n",
      "python is awesome\n",
      "python is awesome\n",
      "python is awesome\n",
      "python is awesome\n",
      "python is awesome\n",
      "python is awesome\n",
      "python is awesome\n",
      "python is awesome\n",
      "python is awesome\n",
      "python is awesome\n",
      "python is awesome\n",
      "python is awesome\n",
      "python is awesome\n",
      "python is awesome\n",
      "python is awesome\n",
      "python is awesome\n",
      "python is awesome\n",
      "python is awesome\n",
      "python is awesome\n",
      "python is awesome\n",
      "python is awesome\n",
      "python is awesome\n",
      "python is awesome\n",
      "python is awesome\n",
      "python is awesome\n",
      "python is awesome\n",
      "python is awesome\n",
      "python is awesome\n",
      "python is awesome\n",
      "python is awesome\n",
      "python is awesome\n",
      "python is awesome\n",
      "python is awesome\n",
      "python is awesome\n",
      "python is awesome\n",
      "python is awesome\n",
      "python is awesome\n",
      "python is awesome\n",
      "python is awesome\n",
      "python is awesome\n",
      "python is awesome\n",
      "python is awesome\n",
      "python is awesome\n",
      "python is awesome\n",
      "python is awesome\n",
      "python is awesome\n",
      "python is awesome\n",
      "python is awesome\n",
      "python is awesome\n",
      "python is awesome\n",
      "python is awesome\n",
      "python is awesome\n",
      "python is awesome\n",
      "python is awesome\n",
      "python is awesome\n",
      "python is awesome\n",
      "python is awesome\n",
      "python is awesome\n",
      "python is awesome\n",
      "python is awesome\n",
      "python is awesome\n",
      "python is awesome\n",
      "python is awesome\n",
      "python is awesome\n",
      "python is awesome\n",
      "python is awesome\n",
      "python is awesome\n",
      "python is awesome\n",
      "python is awesome\n",
      "python is awesome\n",
      "python is awesome\n",
      "python is awesome\n",
      "python is awesome\n",
      "python is awesome\n",
      "python is awesome\n",
      "python is awesome\n",
      "python is awesome\n",
      "python is awesome\n",
      "python is awesome\n",
      "python is awesome\n",
      "python is awesome\n",
      "python is awesome\n",
      "python is awesome\n",
      "python is awesome\n",
      "python is awesome\n",
      "python is awesome\n",
      "python is awesome\n",
      "python is awesome\n",
      "python is awesome\n",
      "python is awesome\n",
      "python is awesome\n",
      "python is awesome\n",
      "python is awesome\n",
      "python is awesome\n",
      "python is awesome\n",
      "python is awesome\n",
      "python is awesome\n",
      "python is awesome\n",
      "python is awesome\n",
      "python is awesome\n",
      "python is awesome\n",
      "python is awesome\n",
      "python is awesome\n",
      "python is awesome\n",
      "python is awesome\n",
      "python is awesome\n",
      "python is awesome\n",
      "python is awesome\n",
      "python is awesome\n",
      "python is awesome\n",
      "python is awesome\n",
      "python is awesome\n",
      "python is awesome\n",
      "python is awesome\n",
      "python is awesome\n",
      "python is awesome\n",
      "python is awesome\n",
      "python is awesome\n",
      "python is awesome\n",
      "python is awesome\n",
      "python is awesome\n",
      "python is awesome\n",
      "python is awesome\n",
      "python is awesome\n",
      "python is awesome\n",
      "python is awesome\n",
      "python is awesome\n",
      "python is awesome\n",
      "python is awesome\n",
      "python is awesome\n",
      "python is awesome\n",
      "python is awesome\n",
      "python is awesome\n",
      "python is awesome\n",
      "python is awesome\n",
      "python is awesome\n",
      "python is awesome\n",
      "python is awesome\n",
      "python is awesome\n",
      "python is awesome\n",
      "python is awesome\n",
      "python is awesome\n",
      "python is awesome\n",
      "python is awesome\n",
      "python is awesome\n",
      "python is awesome\n",
      "python is awesome\n",
      "python is awesome\n",
      "python is awesome\n",
      "python is awesome\n",
      "python is awesome\n",
      "python is awesome\n",
      "python is awesome\n",
      "python is awesome\n",
      "python is awesome\n",
      "python is awesome\n",
      "python is awesome\n",
      "python is awesome\n",
      "python is awesome\n",
      "python is awesome\n",
      "python is awesome\n",
      "python is awesome\n",
      "python is awesome\n",
      "python is awesome\n",
      "python is awesome\n",
      "python is awesome\n",
      "python is awesome\n",
      "python is awesome\n",
      "python is awesome\n",
      "python is awesome\n",
      "python is awesome\n",
      "python is awesome\n",
      "python is awesome\n",
      "python is awesome\n",
      "python is awesome\n",
      "python is awesome\n",
      "python is awesome\n",
      "python is awesome\n",
      "python is awesome\n",
      "python is awesome\n",
      "python is awesome\n",
      "python is awesome\n",
      "python is awesome\n",
      "python is awesome\n",
      "python is awesome\n",
      "python is awesome\n",
      "python is awesome\n",
      "python is awesome\n",
      "python is awesome\n",
      "python is awesome\n",
      "python is awesome\n",
      "python is awesome\n",
      "python is awesome\n",
      "python is awesome\n",
      "python is awesome\n",
      "python is awesome\n",
      "python is awesome\n",
      "python is awesome\n",
      "python is awesome\n",
      "python is awesome\n",
      "python is awesome\n",
      "python is awesome\n",
      "python is awesome\n",
      "python is awesome\n",
      "python is awesome\n",
      "python is awesome\n",
      "python is awesome\n",
      "python is awesome\n",
      "python is awesome\n",
      "python is awesome\n",
      "python is awesome\n",
      "python is awesome\n",
      "python is awesome\n",
      "python is awesome\n",
      "python is awesome\n",
      "python is awesome\n",
      "python is awesome\n",
      "python is awesome\n",
      "python is awesome\n",
      "python is awesome\n",
      "python is awesome\n",
      "python is awesome\n",
      "python is awesome\n",
      "python is awesome\n",
      "python is awesome\n",
      "python is awesome\n",
      "python is awesome\n",
      "python is awesome\n",
      "python is awesome\n",
      "python is awesome\n",
      "python is awesome\n",
      "python is awesome\n",
      "python is awesome\n",
      "python is awesome\n",
      "python is awesome\n",
      "python is awesome\n",
      "python is awesome\n",
      "python is awesome\n",
      "python is awesome\n",
      "python is awesome\n",
      "python is awesome\n",
      "python is awesome\n",
      "python is awesome\n",
      "python is awesome\n",
      "python is awesome\n",
      "python is awesome\n",
      "python is awesome\n",
      "python is awesome\n",
      "python is awesome\n",
      "python is awesome\n",
      "python is awesome\n",
      "python is awesome\n",
      "python is awesome\n",
      "python is awesome\n",
      "python is awesome\n",
      "python is awesome\n",
      "python is awesome\n",
      "python is awesome\n",
      "python is awesome\n",
      "python is awesome\n",
      "python is awesome\n",
      "python is awesome\n",
      "python is awesome\n",
      "python is awesome\n",
      "python is awesome\n",
      "python is awesome\n",
      "python is awesome\n",
      "python is awesome\n",
      "python is awesome\n",
      "python is awesome\n",
      "python is awesome\n",
      "python is awesome\n",
      "python is awesome\n",
      "python is awesome\n",
      "python is awesome\n",
      "python is awesome\n",
      "python is awesome\n",
      "python is awesome\n",
      "python is awesome\n",
      "python is awesome\n",
      "python is awesome\n",
      "python is awesome\n",
      "python is awesome\n",
      "python is awesome\n",
      "python is awesome\n",
      "python is awesome\n",
      "python is awesome\n",
      "python is awesome\n",
      "python is awesome\n",
      "python is awesome\n",
      "python is awesome\n",
      "python is awesome\n",
      "python is awesome\n",
      "python is awesome\n",
      "python is awesome\n",
      "python is awesome\n",
      "python is awesome\n",
      "python is awesome\n",
      "python is awesome\n",
      "python is awesome\n",
      "python is awesome\n",
      "python is awesome\n",
      "python is awesome\n",
      "python is awesome\n",
      "python is awesome\n",
      "python is awesome\n",
      "python is awesome\n",
      "python is awesome\n",
      "python is awesome\n",
      "python is awesome\n",
      "python is awesome\n",
      "python is awesome\n",
      "python is awesome\n",
      "python is awesome\n",
      "python is awesome\n",
      "python is awesome\n",
      "python is awesome\n",
      "python is awesome\n",
      "python is awesome\n",
      "python is awesome\n",
      "python is awesome\n",
      "python is awesome\n",
      "python is awesome\n",
      "python is awesome\n",
      "python is awesome\n",
      "python is awesome\n",
      "python is awesome\n",
      "python is awesome\n",
      "python is awesome\n",
      "python is awesome\n",
      "python is awesome\n",
      "python is awesome\n",
      "python is awesome\n",
      "python is awesome\n",
      "python is awesome\n",
      "python is awesome\n",
      "python is awesome\n",
      "python is awesome\n",
      "python is awesome\n",
      "python is awesome\n",
      "python is awesome\n",
      "python is awesome\n",
      "python is awesome\n",
      "python is awesome\n",
      "python is awesome\n",
      "python is awesome\n",
      "python is awesome\n",
      "python is awesome\n",
      "python is awesome\n",
      "python is awesome\n",
      "python is awesome\n",
      "python is awesome\n",
      "python is awesome\n",
      "python is awesome\n",
      "python is awesome\n",
      "python is awesome\n",
      "python is awesome\n",
      "python is awesome\n",
      "python is awesome\n",
      "python is awesome\n",
      "python is awesome\n",
      "python is awesome\n",
      "python is awesome\n",
      "python is awesome\n",
      "python is awesome\n",
      "python is awesome\n",
      "python is awesome\n",
      "python is awesome\n",
      "python is awesome\n",
      "python is awesome\n",
      "python is awesome\n",
      "python is awesome\n",
      "python is awesome\n",
      "python is awesome\n",
      "python is awesome\n",
      "python is awesome\n",
      "python is awesome\n",
      "python is awesome\n",
      "python is awesome\n",
      "python is awesome\n",
      "python is awesome\n",
      "python is awesome\n",
      "python is awesome\n",
      "python is awesome\n",
      "python is awesome\n",
      "python is awesome\n",
      "python is awesome\n",
      "python is awesome\n",
      "python is awesome\n",
      "python is awesome\n",
      "python is awesome\n",
      "python is awesome\n",
      "python is awesome\n",
      "python is awesome\n",
      "python is awesome\n",
      "python is awesome\n",
      "python is awesome\n",
      "python is awesome\n",
      "python is awesome\n",
      "python is awesome\n",
      "python is awesome\n",
      "python is awesome\n",
      "python is awesome\n",
      "python is awesome\n",
      "python is awesome\n",
      "python is awesome\n",
      "python is awesome\n",
      "python is awesome\n",
      "python is awesome\n",
      "python is awesome\n",
      "python is awesome\n",
      "python is awesome\n",
      "python is awesome\n",
      "python is awesome\n",
      "python is awesome\n",
      "python is awesome\n",
      "python is awesome\n",
      "python is awesome\n",
      "python is awesome\n",
      "python is awesome\n",
      "python is awesome\n",
      "python is awesome\n",
      "python is awesome\n",
      "python is awesome\n",
      "python is awesome\n",
      "python is awesome\n",
      "python is awesome\n",
      "python is awesome\n",
      "python is awesome\n",
      "python is awesome\n",
      "python is awesome\n",
      "python is awesome\n",
      "python is awesome\n",
      "python is awesome\n",
      "python is awesome\n",
      "python is awesome\n",
      "python is awesome\n",
      "python is awesome\n",
      "python is awesome\n",
      "python is awesome\n",
      "python is awesome\n",
      "python is awesome\n",
      "python is awesome\n",
      "python is awesome\n",
      "python is awesome\n",
      "python is awesome\n",
      "python is awesome\n",
      "python is awesome\n",
      "python is awesome\n",
      "python is awesome\n",
      "python is awesome\n",
      "python is awesome\n",
      "python is awesome\n",
      "python is awesome\n",
      "python is awesome\n",
      "python is awesome\n",
      "python is awesome\n",
      "python is awesome\n",
      "python is awesome\n",
      "python is awesome\n",
      "python is awesome\n",
      "python is awesome\n",
      "python is awesome\n",
      "python is awesome\n",
      "python is awesome\n",
      "python is awesome\n",
      "python is awesome\n",
      "python is awesome\n",
      "python is awesome\n",
      "python is awesome\n",
      "python is awesome\n",
      "python is awesome\n",
      "python is awesome\n",
      "python is awesome\n",
      "python is awesome\n",
      "python is awesome\n",
      "python is awesome\n",
      "python is awesome\n",
      "python is awesome\n",
      "python is awesome\n",
      "python is awesome\n",
      "python is awesome\n",
      "python is awesome\n",
      "python is awesome\n",
      "python is awesome\n",
      "python is awesome\n",
      "python is awesome\n",
      "python is awesome\n",
      "python is awesome\n",
      "python is awesome\n",
      "python is awesome\n",
      "python is awesome\n",
      "python is awesome\n",
      "python is awesome\n",
      "python is awesome\n",
      "python is awesome\n",
      "python is awesome\n",
      "python is awesome\n",
      "python is awesome\n",
      "python is awesome\n",
      "python is awesome\n",
      "python is awesome\n",
      "python is awesome\n",
      "python is awesome\n",
      "python is awesome\n",
      "python is awesome\n",
      "python is awesome\n",
      "python is awesome\n",
      "python is awesome\n",
      "python is awesome\n",
      "python is awesome\n",
      "python is awesome\n",
      "python is awesome\n",
      "python is awesome\n",
      "python is awesome\n",
      "python is awesome\n",
      "python is awesome\n",
      "python is awesome\n",
      "python is awesome\n",
      "python is awesome\n",
      "python is awesome\n",
      "python is awesome\n",
      "python is awesome\n",
      "python is awesome\n",
      "python is awesome\n",
      "python is awesome\n",
      "python is awesome\n",
      "python is awesome\n",
      "python is awesome\n",
      "python is awesome\n",
      "python is awesome\n",
      "python is awesome\n",
      "python is awesome\n",
      "python is awesome\n",
      "python is awesome\n",
      "python is awesome\n",
      "python is awesome\n",
      "python is awesome\n",
      "python is awesome\n",
      "python is awesome\n",
      "python is awesome\n",
      "python is awesome\n",
      "python is awesome\n",
      "python is awesome\n",
      "python is awesome\n",
      "python is awesome\n",
      "python is awesome\n",
      "python is awesome\n",
      "python is awesome\n",
      "python is awesome\n",
      "python is awesome\n",
      "python is awesome\n",
      "python is awesome\n",
      "python is awesome\n",
      "python is awesome\n",
      "python is awesome\n",
      "python is awesome\n",
      "python is awesome\n",
      "python is awesome\n",
      "python is awesome\n",
      "python is awesome\n",
      "python is awesome\n"
     ]
    }
   ],
   "source": [
    "for i in range(1000):\n",
    "    print(\"python is awesome\")"
   ]
  },
  {
   "cell_type": "markdown",
   "metadata": {},
   "source": [
    "PBLM: Write a for loop to print all the numbers between 10 and 50"
   ]
  },
  {
   "cell_type": "code",
   "execution_count": 2,
   "metadata": {},
   "outputs": [
    {
     "name": "stdout",
     "output_type": "stream",
     "text": [
      "10\n",
      "11\n",
      "12\n",
      "13\n",
      "14\n",
      "15\n",
      "16\n",
      "17\n",
      "18\n",
      "19\n",
      "20\n",
      "21\n",
      "22\n",
      "23\n",
      "24\n",
      "25\n",
      "26\n",
      "27\n",
      "28\n",
      "29\n",
      "30\n",
      "31\n",
      "32\n",
      "33\n",
      "34\n",
      "35\n",
      "36\n",
      "37\n",
      "38\n",
      "39\n",
      "40\n",
      "41\n",
      "42\n",
      "43\n",
      "44\n",
      "45\n",
      "46\n",
      "47\n",
      "48\n",
      "49\n"
     ]
    }
   ],
   "source": [
    "for i in range(10,50):\n",
    "    print(i)"
   ]
  },
  {
   "cell_type": "markdown",
   "metadata": {},
   "source": [
    "PBLM:Write a program to print all the odd numbers between 10 and 50"
   ]
  },
  {
   "cell_type": "code",
   "execution_count": 4,
   "metadata": {},
   "outputs": [
    {
     "name": "stdout",
     "output_type": "stream",
     "text": [
      "11\n",
      "13\n",
      "15\n",
      "17\n",
      "19\n",
      "21\n",
      "23\n",
      "25\n",
      "27\n",
      "29\n",
      "31\n",
      "33\n",
      "35\n",
      "37\n",
      "39\n",
      "41\n",
      "43\n",
      "45\n",
      "47\n",
      "49\n"
     ]
    }
   ],
   "source": [
    "for i in range(11,50,2):\n",
    "    print(i)"
   ]
  },
  {
   "cell_type": "markdown",
   "metadata": {},
   "source": [
    "# FUNCTIONS"
   ]
  },
  {
   "cell_type": "markdown",
   "metadata": {},
   "source": [
    "< Re-usable piece of code\n",
    "< Created for solving specific problem"
   ]
  },
  {
   "cell_type": "markdown",
   "metadata": {},
   "source": [
    "< Built-in Functions  eg:range(),print(),min(),max()"
   ]
  },
  {
   "cell_type": "markdown",
   "metadata": {},
   "source": [
    "<User defined functions eg:area_of_circle()"
   ]
  },
  {
   "cell_type": "markdown",
   "metadata": {},
   "source": [
    "syntax for defining function"
   ]
  },
  {
   "cell_type": "markdown",
   "metadata": {},
   "source": [
    "\n",
    "    def function_name(arguments):\n",
    "        statement1\n",
    "        statement2\n",
    "        .\n",
    "        .\n",
    "        .\n",
    "        statementn\n",
    "        return statement"
   ]
  },
  {
   "cell_type": "markdown",
   "metadata": {},
   "source": [
    "\n",
    "    def area_circle(radius):\n",
    "        area=3.14*r*r\n",
    "        return area"
   ]
  },
  {
   "cell_type": "markdown",
   "metadata": {},
   "source": [
    "# Implementing functions in python"
   ]
  },
  {
   "cell_type": "markdown",
   "metadata": {},
   "source": [
    "PBLM:Create a function that takes two numbers as argument and return the greater of the two"
   ]
  },
  {
   "cell_type": "code",
   "execution_count": 10,
   "metadata": {},
   "outputs": [],
   "source": [
    "def compare(a,b):\n",
    "    if(a>b):\n",
    "        greater=a\n",
    "    else:\n",
    "        greater=b\n",
    "    return greater    "
   ]
  },
  {
   "cell_type": "code",
   "execution_count": 11,
   "metadata": {},
   "outputs": [
    {
     "data": {
      "text/plain": [
       "50"
      ]
     },
     "execution_count": 11,
     "metadata": {},
     "output_type": "execute_result"
    }
   ],
   "source": [
    "compare(50,24)"
   ]
  },
  {
   "cell_type": "code",
   "execution_count": 12,
   "metadata": {},
   "outputs": [
    {
     "data": {
      "text/plain": [
       "45"
      ]
     },
     "execution_count": 12,
     "metadata": {},
     "output_type": "execute_result"
    }
   ],
   "source": [
    "compare(45,21)"
   ]
  },
  {
   "cell_type": "markdown",
   "metadata": {},
   "source": [
    "# DATA STRUCTURES"
   ]
  },
  {
   "cell_type": "markdown",
   "metadata": {},
   "source": [
    "int,float,boolean,string"
   ]
  },
  {
   "cell_type": "markdown",
   "metadata": {},
   "source": [
    "lists,dictionaries"
   ]
  },
  {
   "cell_type": "markdown",
   "metadata": {},
   "source": [
    "What is a list?"
   ]
  },
  {
   "cell_type": "markdown",
   "metadata": {},
   "source": [
    "List is an ordered datastructure with elements separated by comma and enclosed within square brackets."
   ]
  },
  {
   "cell_type": "markdown",
   "metadata": {},
   "source": [
    "list1=[1,3,5,6]"
   ]
  },
  {
   "cell_type": "markdown",
   "metadata": {},
   "source": [
    "list2=['python','anu']"
   ]
  },
  {
   "cell_type": "markdown",
   "metadata": {},
   "source": [
    "mix datatype"
   ]
  },
  {
   "cell_type": "markdown",
   "metadata": {},
   "source": [
    "list=[\"python\",2,'annu']"
   ]
  },
  {
   "cell_type": "markdown",
   "metadata": {},
   "source": [
    "subsetting a list"
   ]
  },
  {
   "cell_type": "code",
   "execution_count": 17,
   "metadata": {},
   "outputs": [
    {
     "data": {
      "text/plain": [
       "555"
      ]
     },
     "execution_count": 17,
     "metadata": {},
     "output_type": "execute_result"
    }
   ],
   "source": [
    "list1=[\"pty\",34,\"anu\",555]\n",
    "list1[3]"
   ]
  },
  {
   "cell_type": "markdown",
   "metadata": {},
   "source": [
    "To extract sequence of elements"
   ]
  },
  {
   "cell_type": "code",
   "execution_count": 18,
   "metadata": {},
   "outputs": [
    {
     "data": {
      "text/plain": [
       "['anu', 555]"
      ]
     },
     "execution_count": 18,
     "metadata": {},
     "output_type": "execute_result"
    }
   ],
   "source": [
    "list1=[\"pty\",34,\"anu\",555,\"apple\"]\n",
    "list1[2:4]"
   ]
  },
  {
   "cell_type": "markdown",
   "metadata": {},
   "source": [
    "To extract an element using negative index"
   ]
  },
  {
   "cell_type": "code",
   "execution_count": 19,
   "metadata": {},
   "outputs": [
    {
     "data": {
      "text/plain": [
       "'apple'"
      ]
     },
     "execution_count": 19,
     "metadata": {},
     "output_type": "execute_result"
    }
   ],
   "source": [
    "list1[-1]"
   ]
  },
  {
   "cell_type": "markdown",
   "metadata": {},
   "source": [
    "Adding elements to an existing list"
   ]
  },
  {
   "cell_type": "code",
   "execution_count": 21,
   "metadata": {},
   "outputs": [],
   "source": [
    "#adding single element\n",
    "list1.append(\"june\")"
   ]
  },
  {
   "cell_type": "code",
   "execution_count": 22,
   "metadata": {},
   "outputs": [
    {
     "data": {
      "text/plain": [
       "['pty', 34, 'anu', 555, 'apple', 'june']"
      ]
     },
     "execution_count": 22,
     "metadata": {},
     "output_type": "execute_result"
    }
   ],
   "source": [
    "list1"
   ]
  },
  {
   "cell_type": "markdown",
   "metadata": {},
   "source": [
    "#adding multiple element"
   ]
  },
  {
   "cell_type": "code",
   "execution_count": 24,
   "metadata": {},
   "outputs": [
    {
     "data": {
      "text/plain": [
       "['pty', 34, 'anu', 555, 'apple', 'june', 'shone', 6, 'juby']"
      ]
     },
     "execution_count": 24,
     "metadata": {},
     "output_type": "execute_result"
    }
   ],
   "source": [
    "list1.extend([\"shone\",6,\"juby\"])\n",
    "list1"
   ]
  },
  {
   "cell_type": "markdown",
   "metadata": {},
   "source": [
    "adding list to a list"
   ]
  },
  {
   "cell_type": "code",
   "execution_count": 25,
   "metadata": {},
   "outputs": [
    {
     "data": {
      "text/plain": [
       "['pty', 34, 'anu', 555, 'apple', 'june', 'shone', 6, 'juby', [3, 8]]"
      ]
     },
     "execution_count": 25,
     "metadata": {},
     "output_type": "execute_result"
    }
   ],
   "source": [
    "list1.append([3,8])\n",
    "list1"
   ]
  },
  {
   "cell_type": "markdown",
   "metadata": {},
   "source": [
    "Deleting an elements of list"
   ]
  },
  {
   "cell_type": "markdown",
   "metadata": {},
   "source": [
    "Deleting an element by value"
   ]
  },
  {
   "cell_type": "code",
   "execution_count": 28,
   "metadata": {},
   "outputs": [
    {
     "data": {
      "text/plain": [
       "['pty', 34, 555, 'apple', 'june', 'shone', 6, 'juby', [3, 8]]"
      ]
     },
     "execution_count": 28,
     "metadata": {},
     "output_type": "execute_result"
    }
   ],
   "source": [
    "list1.remove(\"anu\")\n",
    "list1"
   ]
  },
  {
   "cell_type": "markdown",
   "metadata": {},
   "source": [
    "Deleting an element by index"
   ]
  },
  {
   "cell_type": "code",
   "execution_count": 30,
   "metadata": {},
   "outputs": [
    {
     "data": {
      "text/plain": [
       "['pty', 34, 'june', 'shone', 6, 'juby', [3, 8]]"
      ]
     },
     "execution_count": 30,
     "metadata": {},
     "output_type": "execute_result"
    }
   ],
   "source": [
    "del list1[2]\n",
    "list1"
   ]
  },
  {
   "cell_type": "markdown",
   "metadata": {},
   "source": [
    "# Looping over a list"
   ]
  },
  {
   "cell_type": "markdown",
   "metadata": {},
   "source": [
    "Printing each element of a list"
   ]
  },
  {
   "cell_type": "code",
   "execution_count": 31,
   "metadata": {},
   "outputs": [
    {
     "name": "stdout",
     "output_type": "stream",
     "text": [
      "pty\n",
      "34\n",
      "june\n",
      "shone\n",
      "6\n",
      "juby\n",
      "[3, 8]\n"
     ]
    }
   ],
   "source": [
    "for i in list1:\n",
    "    print(i)"
   ]
  },
  {
   "cell_type": "markdown",
   "metadata": {},
   "source": [
    "# Dictionary"
   ]
  },
  {
   "cell_type": "markdown",
   "metadata": {},
   "source": [
    "Elements are accessed by keys rather than index"
   ]
  },
  {
   "cell_type": "code",
   "execution_count": 32,
   "metadata": {},
   "outputs": [],
   "source": [
    "dict={\"manu\":[45,56],\"shebin\":[45,89],\"anu\":[89,65]}"
   ]
  },
  {
   "cell_type": "code",
   "execution_count": 34,
   "metadata": {},
   "outputs": [
    {
     "data": {
      "text/plain": [
       "[45, 56]"
      ]
     },
     "execution_count": 34,
     "metadata": {},
     "output_type": "execute_result"
    }
   ],
   "source": [
    "dict[\"manu\"]"
   ]
  },
  {
   "cell_type": "markdown",
   "metadata": {},
   "source": [
    "Adding elements to a dictionary"
   ]
  },
  {
   "cell_type": "code",
   "execution_count": 35,
   "metadata": {},
   "outputs": [],
   "source": [
    "#Adding a single element"
   ]
  },
  {
   "cell_type": "code",
   "execution_count": 36,
   "metadata": {},
   "outputs": [],
   "source": [
    "dict[\"shanu\"]=[45,66]"
   ]
  },
  {
   "cell_type": "code",
   "execution_count": 37,
   "metadata": {},
   "outputs": [
    {
     "data": {
      "text/plain": [
       "{'manu': [45, 56], 'shebin': [45, 89], 'anu': [89, 65], 'shanu': [45, 66]}"
      ]
     },
     "execution_count": 37,
     "metadata": {},
     "output_type": "execute_result"
    }
   ],
   "source": [
    "dict"
   ]
  },
  {
   "cell_type": "markdown",
   "metadata": {},
   "source": [
    "Adding multiple elements"
   ]
  },
  {
   "cell_type": "code",
   "execution_count": 38,
   "metadata": {},
   "outputs": [
    {
     "data": {
      "text/plain": [
       "{'manu': [45, 56],\n",
       " 'shebin': [45, 89],\n",
       " 'anu': [89, 65],\n",
       " 'shanu': [45, 66],\n",
       " 'sanu': [23, 45],\n",
       " 'john': [45, 66],\n",
       " 'loyal': [56, 44]}"
      ]
     },
     "execution_count": 38,
     "metadata": {},
     "output_type": "execute_result"
    }
   ],
   "source": [
    "dict.update({\"sanu\":[23,45],\"john\":[45,66],\"loyal\":[56,44]})\n",
    "dict"
   ]
  },
  {
   "cell_type": "markdown",
   "metadata": {},
   "source": [
    "Deleting an element "
   ]
  },
  {
   "cell_type": "code",
   "execution_count": 39,
   "metadata": {},
   "outputs": [],
   "source": [
    "del dict[\"sanu\"]"
   ]
  },
  {
   "cell_type": "code",
   "execution_count": 40,
   "metadata": {},
   "outputs": [
    {
     "data": {
      "text/plain": [
       "{'manu': [45, 56],\n",
       " 'shebin': [45, 89],\n",
       " 'anu': [89, 65],\n",
       " 'shanu': [45, 66],\n",
       " 'john': [45, 66],\n",
       " 'loyal': [56, 44]}"
      ]
     },
     "execution_count": 40,
     "metadata": {},
     "output_type": "execute_result"
    }
   ],
   "source": [
    "dict"
   ]
  },
  {
   "cell_type": "markdown",
   "metadata": {},
   "source": []
  },
  {
   "cell_type": "markdown",
   "metadata": {},
   "source": []
  },
  {
   "cell_type": "code",
   "execution_count": 3,
   "metadata": {},
   "outputs": [],
   "source": []
  },
  {
   "cell_type": "markdown",
   "metadata": {},
   "source": []
  },
  {
   "cell_type": "code",
   "execution_count": 4,
   "metadata": {},
   "outputs": [],
   "source": []
  },
  {
   "cell_type": "markdown",
   "metadata": {},
   "source": []
  },
  {
   "cell_type": "code",
   "execution_count": 7,
   "metadata": {},
   "outputs": [],
   "source": []
  },
  {
   "cell_type": "code",
   "execution_count": 9,
   "metadata": {},
   "outputs": [],
   "source": []
  },
  {
   "cell_type": "code",
   "execution_count": 10,
   "metadata": {},
   "outputs": [],
   "source": []
  },
  {
   "cell_type": "code",
   "execution_count": 11,
   "metadata": {},
   "outputs": [],
   "source": []
  },
  {
   "cell_type": "markdown",
   "metadata": {},
   "source": []
  },
  {
   "cell_type": "markdown",
   "metadata": {},
   "source": []
  },
  {
   "cell_type": "markdown",
   "metadata": {},
   "source": [
    "\n",
    "   "
   ]
  },
  {
   "cell_type": "markdown",
   "metadata": {},
   "source": []
  },
  {
   "cell_type": "markdown",
   "metadata": {},
   "source": [
    "\n",
    "    "
   ]
  },
  {
   "cell_type": "markdown",
   "metadata": {},
   "source": [
    "# "
   ]
  }
 ],
 "metadata": {
  "kernelspec": {
   "display_name": "Python 3",
   "language": "python",
   "name": "python3"
  },
  "language_info": {
   "codemirror_mode": {
    "name": "ipython",
    "version": 3
   },
   "file_extension": ".py",
   "mimetype": "text/x-python",
   "name": "python",
   "nbconvert_exporter": "python",
   "pygments_lexer": "ipython3",
   "version": "3.8.8"
  }
 },
 "nbformat": 4,
 "nbformat_minor": 4
}
