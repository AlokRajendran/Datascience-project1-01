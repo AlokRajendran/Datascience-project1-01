{
 "cells": [
  {
   "cell_type": "markdown",
   "metadata": {
    "id": "9W8JzkLI1mNq"
   },
   "source": [
    "# image arithmetics"
   ]
  },
  {
   "cell_type": "code",
   "execution_count": 3,
   "metadata": {
    "colab": {
     "base_uri": "https://localhost:8080/",
     "height": 401
    },
    "executionInfo": {
     "elapsed": 1793,
     "status": "error",
     "timestamp": 1619669913014,
     "user": {
      "displayName": "Tefna Mintamol",
      "photoUrl": "https://lh3.googleusercontent.com/a-/AOh14Ghnt39-GDgVxjk3EGdKQJAAmfmaBXzjrDQDWIx6=s64",
      "userId": "15878024347112546654"
     },
     "user_tz": -330
    },
    "id": "CIrKaErq1mN3",
    "outputId": "a1f7f93b-87f9-4c1c-e5b2-9df76ea34586"
   },
   "outputs": [
    {
     "name": "stdout",
     "output_type": "stream",
     "text": [
      "Requirement already satisfied: opencv-python in c:\\users\\91956\\anaconda3\\lib\\site-packages (4.5.5.62)\n",
      "Requirement already satisfied: numpy>=1.14.5 in c:\\users\\91956\\anaconda3\\lib\\site-packages (from opencv-python) (1.20.1)\n"
     ]
    }
   ],
   "source": [
    "!pip install opencv-python\n",
    "\n",
    "#image arithmetics\n",
    "#a image will be created according to the size of img with datatype=uint 8\n",
    "import cv2\n",
    "import sys\n",
    "import numpy as np\n",
    "img=cv2.imread('face.jpg')\n",
    "#img = cv2.cvtColor(img, cv2.COLOR_RGB2GRAY)\n",
    "cv2.imshow('input image',img)\n",
    "\n",
    "matrix=np.ones(img.shape,dtype=\"uint8\")*50\n",
    "\n",
    "add=cv2.add(img,matrix)\n",
    "cv2.imshow('added',add)\n",
    "\n",
    "sb=cv2.subtract(img,matrix)\n",
    "cv2.imshow('sub',sb)\n",
    "\n",
    "add=cv2.multiply(img,matrix)\n",
    "cv2.imshow('mul',add)\n",
    "\n",
    "cv2.waitKey(0)\n",
    "#cv2.\n",
    "cv2.destroyAllWindows()\n",
    "\n",
    "#we can also create 0 maix an perform these functions"
   ]
  },
  {
   "cell_type": "markdown",
   "metadata": {
    "id": "nwoVlwlm1mN5"
   },
   "source": [
    "# edge detection"
   ]
  },
  {
   "cell_type": "markdown",
   "metadata": {
    "id": "qzTl_bNB1mN6"
   },
   "source": [
    "edge is the boundary of an image\n",
    "\n",
    "there ae three types of edge detction algo\n",
    "a)laplacian\n",
    "b)canny\n",
    "c)sobel"
   ]
  },
  {
   "cell_type": "code",
   "execution_count": 4,
   "metadata": {
    "id": "OWid00Ct1mN7"
   },
   "outputs": [],
   "source": [
    "import cv2\n",
    "import numpy as np\n",
    "img=cv2.imread('face.jpg')\n",
    "cv2.imshow('input image',img)\n",
    "\n",
    "\n",
    "#laplacian\n",
    "lap=cv2.Laplacian(img,cv2.CV_64F) #specify the datatype\n",
    "cv2.imshow('Laplacian',lap)\n",
    "\n",
    "#canny(most effective)\n",
    "canny=cv2.Canny(img,20,170)#give the threshold values\n",
    "cv2.imshow('canny1',canny)\n",
    "\n",
    "canny=cv2.Canny(img,50,100)#give the threshold values\n",
    "cv2.imshow('canny2',canny)\n",
    "\n",
    "cv2.waitKey(0)\n",
    "cv2.destroyAllWindows()"
   ]
  },
  {
   "cell_type": "code",
   "execution_count": null,
   "metadata": {
    "id": "SXCXMChn1mN8",
    "outputId": "a012be29-e54b-4561-9e46-044076e8d784"
   },
   "outputs": [],
   "source": [
    "import cv2\n",
    "\n",
    "def sketch(image):\n",
    "    img_gray=cv2.cvtColor(image,cv2.COLOR_BGR2GRAY)\n",
    "    img_blur=cv2.GaussianBlur(img_gray,(5,5),0)\n",
    "    canny_=cv2.Canny(img_blur,10,70)\n",
    "    ret,mask=cv2.threshold(canny_,70,255,cv2.THRESH_BINARY)\n",
    "    print(ret)\n",
    "    return mask\n",
    "\n",
    "cap=cv2.VideoCapture(0)\n",
    "\n",
    "while True:\n",
    "    ret,frame=cap.read()\n",
    "    cv2.imshow('live',sketch(frame))\n",
    "    if cv2.waitKey(1)==2:\n",
    "        break\n",
    "    \n",
    "cap.release()  \n",
    "cv2.destroyAllWindows()"
   ]
  },
  {
   "cell_type": "markdown",
   "metadata": {
    "id": "CjLKfVeU1mOA"
   },
   "source": [
    "# face detection"
   ]
  },
  {
   "cell_type": "code",
   "execution_count": null,
   "metadata": {
    "id": "aY7H7w0n1mOA",
    "outputId": "5603bae2-501a-4fc4-c937-ce36944e5127"
   },
   "outputs": [],
   "source": [
    "\n",
    "#Face Recognition\n",
    "\n",
    "# Importing the libraries\n",
    "import cv2\n",
    "\n",
    "# Loading the cascades\n",
    "face_cascade = cv2.CascadeClassifier(cv2.data.haarcascades + 'haarcascade_frontalface_default.xml')\n",
    "import numpy as np\n",
    "img=cv2.imread('face.jpg')\n",
    "cv2.imshow('input image',img)\n",
    "\n",
    "gray= cv2.cvtColor(img,cv2.COLOR_BGR2GRAY)\n",
    "\n",
    "\n",
    "faces = face_cascade.detectMultiScale(gray, 1.3, 5) #faces will store the information of all the faces as an array\n",
    "print(faces)\n",
    "\n",
    "for (x, y, w, h) in faces:\n",
    "        \n",
    "    cv2.rectangle(img, (x, y), (x+w, y+h), (143, 3,154), 2)\n",
    "    cv2.imshow('face detection result',img) \n",
    "cv2.waitKey()    \n",
    "cv2.destroyAllWindows()            "
   ]
  },
  {
   "cell_type": "markdown",
   "metadata": {
    "id": "t-fVcQnV1mOB"
   },
   "source": [
    "# eye detection"
   ]
  },
  {
   "cell_type": "code",
   "execution_count": null,
   "metadata": {
    "id": "lTwmHPh11mOB",
    "outputId": "3bf03235-c5a6-499a-d135-0abc59364986"
   },
   "outputs": [],
   "source": [
    "#face and eye\n",
    "\n",
    "import cv2\n",
    "import numpy as np\n",
    "\n",
    "# Loading the cascades\n",
    "face_cascade = cv2.CascadeClassifier(cv2.data.haarcascades + 'haarcascade_frontalface_default.xml')\n",
    "eye_cascade = cv2.CascadeClassifier(cv2.data.haarcascades + 'haarcascade_eye.xml')\n",
    "\n",
    "\n",
    "\n",
    "img=cv2.imread('face.jpg')\n",
    "cv2.imshow('input image',img)\n",
    "\n",
    "gray= cv2.cvtColor(img,cv2.COLOR_BGR2GRAY)\n",
    "\n",
    "\n",
    "faces = face_cascade.detectMultiScale(gray, 1.3, 5) #faces will store the information of all the faces as an array\n",
    "print(faces)\n",
    "\n",
    "for (x, y, w, h) in faces:\n",
    "        \n",
    "    cv2.rectangle(img, (x, y), (x+w, y+h), (255, 0, 0), 2)\n",
    "    cv2.imshow('face detection result',img) \n",
    "    gray_crop=gray[y:y+h,x:x+w]\n",
    "    clor_crop=img[y:y+h,x:x+w]\n",
    "    eyes=eye_cascade.detectMultiScale(gray_crop)\n",
    "    for(ex,ey,ew,eh) in eyes:\n",
    "        cv2.rectangle(clor_crop,(ex,ey),(ex+ew,ey+eh),(255,255,0),2)\n",
    "        cv2.imshow('out',img)\n",
    "cv2.waitKey(1)    \n",
    "cv2.destroyAllWindows()            \n"
   ]
  },
  {
   "cell_type": "markdown",
   "metadata": {
    "id": "Rc3tXIKI1mOC"
   },
   "source": [
    "# web cam face detection"
   ]
  },
  {
   "cell_type": "code",
   "execution_count": null,
   "metadata": {
    "id": "Cr_K-Re11mOD"
   },
   "outputs": [],
   "source": [
    "# Doing some Face Recognition with the webcam\n",
    "\n",
    "#face and eye\n",
    "import cv2\n",
    "\n",
    "# Loading the cascades\n",
    "face_cascade = cv2.CascadeClassifier(cv2.data.haarcascades + 'haarcascade_frontalface_default.xml')\n",
    "eye_cascade = cv2.CascadeClassifier(cv2.data.haarcascades + 'haarcascade_eye.xml')\n",
    "\n",
    "# Defining a function that will do the detections\n",
    "def detect(gray, frame):\n",
    "    faces = face_cascade.detectMultiScale(gray, 1.3, 5)\n",
    "    for (x, y, w, h) in faces:\n",
    "        cv2.rectangle(frame, (x, y), (x+w, y+h), (255, 0, 0), 2)\n",
    "        roi_gray = gray[y:y+h, x:x+w]\n",
    "        roi_color = frame[y:y+h, x:x+w]\n",
    "        eyes = eye_cascade.detectMultiScale(roi_gray, 1.1, 3)\n",
    "        for (ex, ey, ew, eh) in eyes:\n",
    "            cv2.rectangle(roi_color, (ex, ey), (ex+ew, ey+eh), (0, 255, 0), 2)\n",
    "    return frame\n",
    "\n",
    "# Doing some Face Recognition with the webcam\n",
    "\n",
    "video_capture = cv2.VideoCapture(0)\n",
    "while True:\n",
    "    _, frame = video_capture.read()\n",
    "    gray = cv2.cvtColor(frame, cv2.COLOR_BGR2GRAY)\n",
    "    canvas = detect(gray, frame)\n",
    "    cv2.imshow('Video', canvas)\n",
    "    if cv2.waitKey(1) & 0xFF == ord('q'):\n",
    "        break\n",
    "video_capture.release()\n",
    "cv2.destroyAllWindows()"
   ]
  },
  {
   "cell_type": "code",
   "execution_count": null,
   "metadata": {
    "id": "Q-Gk0gYP1mOE"
   },
   "outputs": [],
   "source": [
    "import cv2\n",
    "import numpy as np\n",
    "\n",
    "# Create our body classifier\n",
    "body_classifier = cv2.CascadeClassifier('haarcascade_fullbody.xml')\n",
    "\n",
    "# Initiate video capture for video file\n",
    "cap = cv2.VideoCapture('walking.avi')\n",
    "\n",
    "# Loop once video is successfully loaded\n",
    "while cap.isOpened():\n",
    "    \n",
    "    # Read first frame\n",
    "    ret, frame = cap.read()\n",
    "    \n",
    "\n",
    "    gray = cv2.cvtColor(frame, cv2.COLOR_BGR2GRAY)\n",
    "    # Pass frame to our body classifier\n",
    "    bodies = body_classifier.detectMultiScale(gray, 1.2, 5)\n",
    "    \n",
    "    # Extract bounding boxes for any bodies identified\n",
    "    for (x,y,w,h) in bodies:\n",
    "        cv2.rectangle(frame, (x, y), (x+w, y+h), (0, 255, 255), 2)\n",
    "        cv2.imshow('Pedestrians', frame)\n",
    "\n",
    "    if cv2.waitKey(1) == 13: #13 is the Enter Key\n",
    "        break\n",
    "\n",
    "cap.release()\n",
    "cv2.destroyAllWindows()"
   ]
  },
  {
   "cell_type": "code",
   "execution_count": null,
   "metadata": {
    "id": "Sz0c1-i71mOF"
   },
   "outputs": [],
   "source": [
    "import cv2\n",
    "import time\n",
    "import numpy as np\n",
    "\n",
    "# Create our body classifier\n",
    "car_classifier = cv2.CascadeClassifier('haarcascade_car.xml')\n",
    "\n",
    "# Initiate video capture for video file\n",
    "cap = cv2.VideoCapture('cars.avi')\n",
    "\n",
    "\n",
    "# Loop once video is successfully loaded\n",
    "while cap.isOpened():\n",
    "    \n",
    "    time.sleep(.05)\n",
    "    # Read first frame\n",
    "    ret, frame = cap.read()\n",
    "    gray = cv2.cvtColor(frame, cv2.COLOR_BGR2GRAY)\n",
    "   \n",
    "    # Pass frame to our car classifier\n",
    "    cars = car_classifier.detectMultiScale(gray, 1.2, 3)\n",
    "    \n",
    "    # Extract bounding boxes for any bodies identified\n",
    "    for (x,y,w,h) in cars:\n",
    "        cv2.rectangle(frame, (x, y), (x+w, y+h), (0, 255, 255), 2)\n",
    "        cv2.imshow('Cars', frame)\n",
    "\n",
    "    if cv2.waitKey(1) == 13: #13 is the Enter Key\n",
    "        break\n",
    "\n",
    "cap.release()\n",
    "cv2.destroyAllWindows()"
   ]
  },
  {
   "cell_type": "code",
   "execution_count": null,
   "metadata": {
    "id": "nuAfWZSy1mOG"
   },
   "outputs": [],
   "source": [
    "import cv2\n",
    "import datetime\n",
    "cap = cv2.VideoCapture(0)\n",
    "\n",
    "while True:\n",
    "    ret, frame = cap.read()\n",
    "    font = cv2.FONT_HERSHEY_SIMPLEX\n",
    "    text = 'video'\n",
    "    datet = str(datetime.datetime.now())\n",
    "    frame = cv2.putText(frame, text, (10, 50), font, 1,(0, 255, 255), 2, cv2.LINE_AA)\n",
    "    frame = cv2.putText(frame, datet, (10, 100), font, 1,(0, 255, 255), 2, cv2.LINE_AA)\n",
    "    cv2.imshow('frame', frame)\n",
    "\n",
    "if cv2.waitKey()==13:\n",
    "    break\n",
    "cap.release()\n",
    "cv2.destroyAllWindows()"
   ]
  },
  {
   "cell_type": "code",
   "execution_count": null,
   "metadata": {
    "id": "rLD3IvrW1mOG"
   },
   "outputs": [],
   "source": [
    "import cv2\n",
    "import datetime\n",
    "cap=cv2.VideoCapture(0)\n",
    "while True:\n",
    "    ret,frame=cap.read()\n",
    "    font = cv2.FONT_HERSHEY_SIMPLEX\n",
    "    text = 'video'\n",
    "    \n",
    "    datet = str(datetime.datetime.now())\n",
    "    frame = cv2.putText(frame, text, (10, 50), font, 1,(0, 255, 255), 2, cv2.LINE_AA)\n",
    "    frame = cv2.putText(frame, datet, (10, 100), font, 1,(0, 255, 255), 2, cv2.LINE_AA)\n",
    "    cv2.imshow(\"live\",frame)\n",
    "if cv2.waitKey(1)==13:\n",
    "    break\n",
    "cap.release()\n",
    "cv2.destroyAllWindows()\n"
   ]
  },
  {
   "cell_type": "code",
   "execution_count": null,
   "metadata": {
    "id": "yhykJFtY1mOI"
   },
   "outputs": [],
   "source": []
  }
 ],
 "metadata": {
  "colab": {
   "name": "opencv3.ipynb",
   "provenance": []
  },
  "kernelspec": {
   "display_name": "Python 3",
   "language": "python",
   "name": "python3"
  },
  "language_info": {
   "codemirror_mode": {
    "name": "ipython",
    "version": 3
   },
   "file_extension": ".py",
   "mimetype": "text/x-python",
   "name": "python",
   "nbconvert_exporter": "python",
   "pygments_lexer": "ipython3",
   "version": "3.8.8"
  }
 },
 "nbformat": 4,
 "nbformat_minor": 1
}
